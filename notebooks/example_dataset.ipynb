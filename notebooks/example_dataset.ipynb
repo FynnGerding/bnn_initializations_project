{
 "cells": [
  {
   "cell_type": "markdown",
   "id": "9bb88df5",
   "metadata": {},
   "source": [
    "# Example pipeline for a specific dataset"
   ]
  },
  {
   "cell_type": "code",
   "execution_count": null,
   "id": "b9dfbb96",
   "metadata": {},
   "outputs": [],
   "source": [
    "import pandas as pd\n",
    "from bnn_initializations_project.pipelines.run_training import _process_dataset, _load_train_config"
   ]
  },
  {
   "cell_type": "code",
   "execution_count": null,
   "id": "60343b3c",
   "metadata": {},
   "outputs": [],
   "source": [
    "config = _load_train_config()\n",
    "result, model = _process_dataset('openml-191', prior_name='isotropic_gaussian', nu=5, config=config, existing_keys=set(), force=False, jobs_seed_offset=0, return_model=True)"
   ]
  },
  {
   "cell_type": "code",
   "execution_count": null,
   "id": "7220badd",
   "metadata": {},
   "outputs": [
    {
     "data": {
      "text/plain": [
       "[{'dataset_id': 'openml-191',\n",
       "  'prior': 'isotropic_gaussian',\n",
       "  'split': 'id',\n",
       "  'rmse': 1.1840821504592896,\n",
       "  'nll': 1.4794635772705078,\n",
       "  'cov90': 0.7872340083122253,\n",
       "  'iw90': 3.2836153507232666,\n",
       "  'cov95': 0.9148935675621033,\n",
       "  'iw95': 3.874732255935669,\n",
       "  'accept_rate': 0.0,\n",
       "  'num_draws': 3000,\n",
       "  'seed': 0,\n",
       "  'arch': '[32, 50, 50, 1]',\n",
       "  'activation': 'tanh',\n",
       "  'sigma_lik': 1.0,\n",
       "  'nu': 5,\n",
       "  'prior_scale': 1.0,\n",
       "  'init_scheme': 'isotropic_gaussian'},\n",
       " {'dataset_id': 'openml-191',\n",
       "  'prior': 'isotropic_gaussian',\n",
       "  'split': 'ood',\n",
       "  'rmse': 1.0853580236434937,\n",
       "  'nll': 1.4161561727523804,\n",
       "  'cov90': 0.925000011920929,\n",
       "  'iw90': 3.2051665782928467,\n",
       "  'cov95': 0.925000011920929,\n",
       "  'iw95': 3.8378822803497314,\n",
       "  'accept_rate': 0.0,\n",
       "  'num_draws': 3000,\n",
       "  'seed': 0,\n",
       "  'arch': '[32, 50, 50, 1]',\n",
       "  'activation': 'tanh',\n",
       "  'sigma_lik': 1.0,\n",
       "  'nu': 5,\n",
       "  'prior_scale': 1.0,\n",
       "  'init_scheme': 'isotropic_gaussian'}]"
      ]
     },
     "execution_count": 3,
     "metadata": {},
     "output_type": "execute_result"
    }
   ],
   "source": [
    "result"
   ]
  }
 ],
 "metadata": {
  "kernelspec": {
   "display_name": ".venv",
   "language": "python",
   "name": "python3"
  },
  "language_info": {
   "codemirror_mode": {
    "name": "ipython",
    "version": 3
   },
   "file_extension": ".py",
   "mimetype": "text/x-python",
   "name": "python",
   "nbconvert_exporter": "python",
   "pygments_lexer": "ipython3",
   "version": "3.13.7"
  }
 },
 "nbformat": 4,
 "nbformat_minor": 5
}
